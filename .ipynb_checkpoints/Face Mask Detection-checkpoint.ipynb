{
 "cells": [
  {
   "cell_type": "markdown",
   "id": "fd3f3f6a",
   "metadata": {},
   "source": [
    "### Face Mask Detection"
   ]
  },
  {
   "cell_type": "code",
   "execution_count": 2,
   "id": "049b8c82",
   "metadata": {},
   "outputs": [],
   "source": [
    "import cv2\n",
    "\n",
    "# Load the mask cascade\n",
    "mask_cascade = cv2.CascadeClassifier(\"mask_cascade.xml\")\n",
    "\n",
    "# Load the image\n",
    "#img = cv2.imread(\"unmask_person.jpeg\")\n",
    "img = cv2.imread(\"mask_image.jpeg\")\n",
    "# Convert to grayscale\n",
    "gray = cv2.cvtColor(img, cv2.COLOR_BGR2GRAY)\n",
    "\n",
    "# Detect the faces with masks\n",
    "masks = mask_cascade.detectMultiScale(gray, scaleFactor=1.1, minNeighbors=5)\n",
    "\n",
    "# Draw the rectangle around each face with mask\n",
    "for (x, y, w, h) in masks:\n",
    "    cv2.rectangle(img, (x, y), (x + w, y + h), (0, 255, 0), 2)\n",
    "\n",
    "# Display the output\n",
    "cv2.imshow(\"Mask Detection\", img)\n",
    "cv2.waitKey(0)\n",
    "cv2.destroyAllWindows()"
   ]
  }
 ],
 "metadata": {
  "kernelspec": {
   "display_name": "Python 3 (ipykernel)",
   "language": "python",
   "name": "python3"
  },
  "language_info": {
   "codemirror_mode": {
    "name": "ipython",
    "version": 3
   },
   "file_extension": ".py",
   "mimetype": "text/x-python",
   "name": "python",
   "nbconvert_exporter": "python",
   "pygments_lexer": "ipython3",
   "version": "3.9.16"
  }
 },
 "nbformat": 4,
 "nbformat_minor": 5
}
